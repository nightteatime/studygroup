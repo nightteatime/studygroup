{
 "cells": [
  {
   "cell_type": "code",
   "execution_count": 5,
   "metadata": {},
   "outputs": [],
   "source": [
    "import kaggle"
   ]
  },
  {
   "cell_type": "code",
   "execution_count": 6,
   "metadata": {},
   "outputs": [
    {
     "name": "stdout",
     "output_type": "stream",
     "text": [
      "Warning: Looks like you're using an outdated API Version, please consider updating (server 1.3.9.1 / client 1.3.10)\n",
      "Downloading item_categories.csv to C:\\Users\\Sony\\.kaggle\\competitions\\competitive-data-science-predict-future-sales\n",
      "\n",
      "Downloading items.csv to C:\\Users\\Sony\\.kaggle\\competitions\\competitive-data-science-predict-future-sales\n",
      "\n",
      "Downloading shops.csv to C:\\Users\\Sony\\.kaggle\\competitions\\competitive-data-science-predict-future-sales\n",
      "\n",
      "Downloading sample_submission.csv.gz to C:\\Users\\Sony\\.kaggle\\competitions\\competitive-data-science-predict-future-sales\n",
      "\n",
      "Downloading test.csv.gz to C:\\Users\\Sony\\.kaggle\\competitions\\competitive-data-science-predict-future-sales\n",
      "\n",
      "Downloading sales_train.csv.gz to C:\\Users\\Sony\\.kaggle\\competitions\\competitive-data-science-predict-future-sales\n",
      "\n"
     ]
    },
    {
     "name": "stderr",
     "output_type": "stream",
     "text": [
      "\n",
      "  0%|          | 0.00/3.49k [00:00<?, ?B/s]\n",
      "100%|##########| 3.49k/3.49k [00:00<00:00, 595kB/s]\n",
      "\n",
      "  0%|          | 0.00/1.50M [00:00<?, ?B/s]\n",
      " 67%|######6   | 1.00M/1.50M [00:03<00:01, 347kB/s]\n",
      "100%|##########| 1.50M/1.50M [00:03<00:00, 406kB/s]\n",
      "\n",
      "  0%|          | 0.00/2.91k [00:00<?, ?B/s]\n",
      "100%|##########| 2.91k/2.91k [00:00<00:00, 595kB/s]\n",
      "\n",
      "  0%|          | 0.00/469k [00:00<?, ?B/s]\n",
      "100%|##########| 469k/469k [00:01<00:00, 292kB/s]\n",
      "\n",
      "  0%|          | 0.00/1.01M [00:00<?, ?B/s]\n",
      " 99%|#########9| 1.00M/1.01M [00:03<00:00, 332kB/s]\n",
      "100%|##########| 1.01M/1.01M [00:03<00:00, 334kB/s]\n",
      "\n",
      "  0%|          | 0.00/12.9M [00:00<?, ?B/s]\n",
      "  8%|7         | 1.00M/12.9M [00:01<00:12, 992kB/s]\n",
      " 16%|#5        | 2.00M/12.9M [00:02<00:11, 957kB/s]\n",
      " 23%|##3       | 3.00M/12.9M [00:03<00:11, 888kB/s]\n",
      " 31%|###1      | 4.00M/12.9M [00:04<00:09, 952kB/s]\n",
      " 39%|###8      | 5.00M/12.9M [00:05<00:08, 929kB/s]\n",
      " 47%|####6     | 6.00M/12.9M [00:07<00:09, 737kB/s]\n",
      " 54%|#####4    | 7.00M/12.9M [00:08<00:07, 818kB/s]\n",
      " 62%|######2   | 8.00M/12.9M [00:09<00:05, 926kB/s]\n",
      " 70%|######9   | 9.00M/12.9M [00:10<00:03, 1.08MB/s]\n",
      " 78%|#######7  | 10.0M/12.9M [00:11<00:02, 1.11MB/s]\n",
      " 85%|########5 | 11.0M/12.9M [00:12<00:02, 962kB/s] \n",
      " 93%|#########3| 12.0M/12.9M [00:13<00:00, 1.04MB/s]\n",
      "100%|##########| 12.9M/12.9M [00:13<00:00, 1.22MB/s]\n"
     ]
    }
   ],
   "source": [
    "kaggle competitions download -c competitive-data-science-predict-future-sales"
   ]
  },
  {
   "cell_type": "code",
   "execution_count": null,
   "metadata": {},
   "outputs": [],
   "source": []
  }
 ],
 "metadata": {
  "kernelspec": {
   "display_name": "Python 3",
   "language": "python",
   "name": "python3"
  },
  "language_info": {
   "codemirror_mode": {
    "name": "ipython",
    "version": 3
   },
   "file_extension": ".py",
   "mimetype": "text/x-python",
   "name": "python",
   "nbconvert_exporter": "python",
   "pygments_lexer": "ipython3",
   "version": "3.6.5"
  }
 },
 "nbformat": 4,
 "nbformat_minor": 2
}
